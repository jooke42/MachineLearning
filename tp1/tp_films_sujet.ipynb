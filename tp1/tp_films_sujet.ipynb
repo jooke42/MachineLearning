{
 "cells": [
  {
   "cell_type": "markdown",
   "metadata": {
    "run_control": {
     "frozen": false,
     "read_only": false
    }
   },
   "source": [
    " # Messages associés dans des données"
   ]
  },
  {
   "cell_type": "markdown",
   "metadata": {
    "run_control": {
     "frozen": false,
     "read_only": false
    }
   },
   "source": [
    "Ce TP a pour but de mettre en œuvre la paramétrisation de messages par la technique des \"sacs de mots\" et de regrouper ces messages par l’algorithme des K-moyennes. \n",
    "Dans un premier temps vous travaillerez sur des messages  \"jouets\" que vous aurez choisis pour vous familiariser avec les différentes étapes de la paramétrisation (CountVectorizer puis Stemming et TF-IDF) et  étudier l’évolution de l’algorithme KMeans.\n",
    "\n",
    "Dans un second temps, vous analyserez les synopsis de 100 films récupérées sur wikipedia et IMDb, afin d'identifier **automatiquement** les thèmes récurrents dans ces films.\n",
    "\n",
    "Les modules python à utiliser pour ce TP sont numpy, nltk.stem, sklearn.feature_extraction.text, sklearn.cluster et sklearn.datasets."
   ]
  },
  {
   "cell_type": "markdown",
   "metadata": {
    "run_control": {
     "frozen": false,
     "read_only": false
    }
   },
   "source": [
    "## Messages \"jouets\" - Prise en main des outils "
   ]
  },
  {
   "cell_type": "markdown",
   "metadata": {
    "run_control": {
     "frozen": false,
     "read_only": false
    }
   },
   "source": [
    "Choisir un corpus (une liste de chaines de caractères) d’une dizaine de messages courts (quelques mots) en français, relatifs à **deux** «thèmes» de votre choix bien distincts. "
   ]
  },
  {
   "cell_type": "code",
   "execution_count": 49,
   "metadata": {
    "run_control": {
     "frozen": false,
     "read_only": false
    }
   },
   "outputs": [],
   "source": [
    "corpus=['vous êtes excellents',\n",
    "        'les étudiants sont souvent excellents',\n",
    "        'les étudiants aiment bien rigoler',\n",
    "        'rigoler est excellent pour la santé',\n",
    "        'étudier est excellent',\n",
    "        'que la montagne est belle en hiver',\n",
    "        'en hiver il fait beau mais froid','la neige en montagne est belle',\n",
    "        'la neige en hiver est pénible',\n",
    "        'le froid en hiver est pénible'\n",
    "       ]"
   ]
  },
  {
   "cell_type": "markdown",
   "metadata": {
    "run_control": {
     "frozen": false,
     "read_only": false
    }
   },
   "source": [
    "### Transformation de documents textuels en vecteurs numériques\n",
    "\n",
    "Afin d'appliquer les méthodes d'apprentissage automatique, il est nécessaire de convertir les documents textuels en vecteurs numériques. \n",
    "\n",
    "On peut faire cela à l'aide de la méthode *fit_transform()* de  la classe *CountVectorizer*."
   ]
  },
  {
   "cell_type": "code",
   "execution_count": 50,
   "metadata": {
    "run_control": {
     "frozen": false,
     "read_only": false
    }
   },
   "outputs": [],
   "source": [
    "from sklearn.feature_extraction.text import CountVectorizer\n",
    "vectorizer = CountVectorizer()\n",
    "\n",
    "X = vectorizer.fit_transform(corpus)"
   ]
  },
  {
   "cell_type": "markdown",
   "metadata": {
    "run_control": {
     "frozen": false,
     "read_only": false
    }
   },
   "source": [
    "L'une des operations effectuées par cette méthode est de construire le **dictionnaire des mots** qui apparaissent dans la totalité du corpus."
   ]
  },
  {
   "cell_type": "code",
   "execution_count": 51,
   "metadata": {
    "run_control": {
     "frozen": false,
     "read_only": false
    }
   },
   "outputs": [
    {
     "name": "stdout",
     "output_type": "stream",
     "text": [
      "taille du corpus :  10\n",
      "taille du vocabulaire :  29\n",
      "\n",
      "{'vous': 25, 'êtes': 28, 'excellents': 7, 'les': 14, 'étudiants': 26, 'sont': 23, 'souvent': 24, 'aiment': 0, 'bien': 3, 'rigoler': 21, 'est': 5, 'excellent': 6, 'pour': 18, 'la': 12, 'santé': 22, 'étudier': 27, 'que': 20, 'montagne': 16, 'belle': 2, 'en': 4, 'hiver': 10, 'il': 11, 'fait': 8, 'beau': 1, 'mais': 15, 'froid': 9, 'neige': 17, 'pénible': 19, 'le': 13}\n"
     ]
    }
   ],
   "source": [
    "M,N=X.shape\n",
    "\n",
    "print(\"taille du corpus : \",M)\n",
    "print(\"taille du vocabulaire : \",N)\n",
    "print()\n",
    "print(vectorizer.vocabulary_)"
   ]
  },
  {
   "cell_type": "markdown",
   "metadata": {
    "run_control": {
     "frozen": false,
     "read_only": false
    }
   },
   "source": [
    "Le résultat de la méthode *fit_transform()* est la **matrice des occurrences** des mots, que l'on peut  visualiser par la méthode *toarray()*."
   ]
  },
  {
   "cell_type": "code",
   "execution_count": 52,
   "metadata": {
    "run_control": {
     "frozen": false,
     "read_only": false
    }
   },
   "outputs": [
    {
     "name": "stdout",
     "output_type": "stream",
     "text": [
      "[[0 0 0 0 0 0 0 1 0 0 0 0 0 0 0 0 0 0 0 0 0 0 0 0 0 1 0 0 1]\n",
      " [0 0 0 0 0 0 0 1 0 0 0 0 0 0 1 0 0 0 0 0 0 0 0 1 1 0 1 0 0]\n",
      " [1 0 0 1 0 0 0 0 0 0 0 0 0 0 1 0 0 0 0 0 0 1 0 0 0 0 1 0 0]\n",
      " [0 0 0 0 0 1 1 0 0 0 0 0 1 0 0 0 0 0 1 0 0 1 1 0 0 0 0 0 0]\n",
      " [0 0 0 0 0 1 1 0 0 0 0 0 0 0 0 0 0 0 0 0 0 0 0 0 0 0 0 1 0]\n",
      " [0 0 1 0 1 1 0 0 0 0 1 0 1 0 0 0 1 0 0 0 1 0 0 0 0 0 0 0 0]\n",
      " [0 1 0 0 1 0 0 0 1 1 1 1 0 0 0 1 0 0 0 0 0 0 0 0 0 0 0 0 0]\n",
      " [0 0 1 0 1 1 0 0 0 0 0 0 1 0 0 0 1 1 0 0 0 0 0 0 0 0 0 0 0]\n",
      " [0 0 0 0 1 1 0 0 0 0 1 0 1 0 0 0 0 1 0 1 0 0 0 0 0 0 0 0 0]\n",
      " [0 0 0 0 1 1 0 0 0 1 1 0 0 1 0 0 0 0 0 1 0 0 0 0 0 0 0 0 0]]\n"
     ]
    }
   ],
   "source": [
    "print(X.toarray())"
   ]
  },
  {
   "cell_type": "markdown",
   "metadata": {
    "run_control": {
     "frozen": false,
     "read_only": false
    }
   },
   "source": [
    "Dans la matrice des occurrences, une ligne corresponde à un document particulier, tandis qu'une colonne corresponde à l'un des mots dans le dictionnaire. \n",
    "\n",
    "Par exemple, la première ligne de la matrice est la représentation numérique du premier document du corpus. Remarquez la correspondance directe entre la position des composants non-nuls dans le vecteur et la position des mots dans le dictionnaire !"
   ]
  },
  {
   "cell_type": "code",
   "execution_count": 53,
   "metadata": {
    "run_control": {
     "frozen": false,
     "read_only": false
    }
   },
   "outputs": [
    {
     "name": "stdout",
     "output_type": "stream",
     "text": [
      "Document du corpus:\n",
      "<< vous êtes excellents >>\n",
      "\n",
      "Représentation numerique:\n",
      "[[0 0 0 0 0 0 0 1 0 0 0 0 0 0 0 0 0 0 0 0 0 0 0 0 0 1 0 0 1]]\n",
      "\n",
      "Correspondance entre le vecteur et le dictionnaire:\n",
      "  (0, 7)\tTrue\n",
      "  (0, 25)\tTrue\n",
      "  (0, 28)\tTrue\n"
     ]
    }
   ],
   "source": [
    "print(\"Document du corpus:\")\n",
    "print(\"<< \" +  corpus[0] + \" >>\")\n",
    "print()\n",
    "print( \"Représentation numerique:\" )\n",
    "print( X[0].toarray() )\n",
    "print()\n",
    "print( \"Correspondance entre le vecteur et le dictionnaire:\" )\n",
    "print( (X[0] != 0) )"
   ]
  },
  {
   "cell_type": "markdown",
   "metadata": {
    "run_control": {
     "frozen": false,
     "read_only": false
    }
   },
   "source": [
    "-----\n",
    "\n",
    "**Un document est donc représenté par un vecteur de la même taille que le dictionnaire, dont la composante i indique le nombre d'occurrences du i-ème mot du dictionnaire dans le document.**\n",
    "\n",
    "-----"
   ]
  },
  {
   "cell_type": "markdown",
   "metadata": {
    "run_control": {
     "frozen": false,
     "read_only": false
    }
   },
   "source": [
    "Une fois transformé les documents en vecteurs numériques, ils peuvent être traités comme des points dans un espace euclidien tel que $\\mathbb{R}^N$. \n",
    "\n",
    "Cela vous permet de calculer la matrice des distances (2 à 2) entre les documents de votre corpus."
   ]
  },
  {
   "cell_type": "code",
   "execution_count": 54,
   "metadata": {
    "run_control": {
     "frozen": false,
     "read_only": false
    },
    "scrolled": false
   },
   "outputs": [
    {
     "name": "stdout",
     "output_type": "stream",
     "text": [
      "Matrice des distances:\n",
      "[[ 0.00  2.45  2.83  3.00  2.45  3.16  3.16  3.00  3.00  3.00]\n",
      " [ 2.45  0.00  2.45  3.32  2.83  3.46  3.46  3.32  3.32  3.32]\n",
      " [ 2.83  2.45  0.00  3.00  2.83  3.46  3.46  3.32  3.32  3.32]\n",
      " [ 3.00  3.32  3.00  0.00  2.24  3.00  3.61  2.83  2.83  3.16]\n",
      " [ 2.45  2.83  2.83  2.24  0.00  2.83  3.16  2.65  2.65  2.65]\n",
      " [ 3.16  3.46  3.46  3.00  2.83  0.00  3.16  1.73  2.24  2.65]\n",
      " [ 3.16  3.46  3.46  3.61  3.16  3.16  0.00  3.32  3.00  2.65]\n",
      " [ 3.00  3.32  3.32  2.83  2.65  1.73  3.32  0.00  2.00  2.83]\n",
      " [ 3.00  3.32  3.32  2.83  2.65  2.24  3.00  2.00  0.00  2.00]\n",
      " [ 3.00  3.32  3.32  3.16  2.65  2.65  2.65  2.83  2.00  0.00]]\n"
     ]
    }
   ],
   "source": [
    "import numpy as np\n",
    "np.set_printoptions(formatter={'float': '{: 0.2f}'.format}) # definit la visualisation des nombres réels\n",
    "\n",
    "from sklearn.metrics.pairwise import euclidean_distances\n",
    "\n",
    "# calcule les distances entre les documents\n",
    "dist_corpus = euclidean_distances(X)\n",
    "\n",
    "\n",
    "print(\"Matrice des distances:\")\n",
    "print(dist_corpus)"
   ]
  },
  {
   "cell_type": "markdown",
   "metadata": {
    "run_control": {
     "frozen": false,
     "read_only": false
    }
   },
   "source": [
    "La position $(i,j)$ de cette matrice contient la distance euclidienne entre les documents $i$ et $j$ de votre corpus. \n",
    "\n",
    "Vous pouvez explorer les similarités dans vos données au travers du *positionnement multidimensionnel (MDS)*, une technique statistique qui perment de visualiser l'information à l'aide d'un graphe 2D ou 3D. Voici les codes python pour visualiser les documents comme des points 2D."
   ]
  },
  {
   "cell_type": "code",
   "execution_count": 55,
   "metadata": {
    "run_control": {
     "frozen": false,
     "read_only": false
    },
    "scrolled": true
   },
   "outputs": [
    {
     "data": {
      "image/png": "[encoded data removed]",
      "text/plain": [
       "<matplotlib.figure.Figure at 0x7f4bc21d88d0>"
      ]
     },
     "metadata": {},
     "output_type": "display_data"
    }
   ],
   "source": [
    "from sklearn.manifold import MDS\n",
    "import matplotlib.pyplot as plt\n",
    "\n",
    "# transforme les documents en points 2D.\n",
    "mds = MDS(n_components=2, dissimilarity=\"precomputed\", random_state=1)\n",
    "pos = mds.fit_transform( dist_corpus )\n",
    "\n",
    "# visualise les points\n",
    "%matplotlib inline\n",
    "fig, ax = plt.subplots(figsize=(17, 9))\n",
    "plt.scatter( pos[:,0], pos[:,1],  c='white', marker='o', s=200)\n",
    "plt.grid()\n",
    "plt.tight_layout()\n",
    "\n",
    "# ajoute le début du document à coté de chaque point\n",
    "for i in range(len(pos)):\n",
    "    ax.text(pos[i,0]-0.2, pos[i,1]+0.1, corpus[i], size=15)"
   ]
  },
  {
   "cell_type": "markdown",
   "metadata": {
    "run_control": {
     "frozen": false,
     "read_only": false
    }
   },
   "source": [
    "Dans la figure ci-dessus, un point représente l'un des documents que vous avez rédigé. \n",
    "\n",
    "Vous pouvez utiliser des couleurs differentes pour distinguer les deux thèmes sur lesquels portent les documents. "
   ]
  },
  {
   "cell_type": "code",
   "execution_count": 56,
   "metadata": {
    "run_control": {
     "frozen": false,
     "read_only": false
    }
   },
   "outputs": [
    {
     "data": {
      "image/png": "[encoded data removed]",
      "text/plain": [
       "<matplotlib.figure.Figure at 0x7f4bc21e9128>"
      ]
     },
     "metadata": {},
     "output_type": "display_data"
    }
   ],
   "source": [
    "import matplotlib\n",
    "\n",
    "# indiquez une label pour chaque document (0=premier thème, 1=deuxieme thème)\n",
    "labels = [0, 0, 0, 0, 0, 1, 1, 1, 1, 1]  # TODO : replir ce vecteur en accord avec vos documents\n",
    "\n",
    "# visualise les points\n",
    "colors = ['red', 'blue']\n",
    "fig, ax = plt.subplots(figsize=(17, 9))\n",
    "plt.scatter( pos[:,0], pos[:,1], s=200, c=labels, cmap=matplotlib.colors.ListedColormap(colors) )\n",
    "plt.grid()\n",
    "plt.tight_layout()\n",
    "\n",
    "# ajoute le début du document à coté de chaque point1\n",
    "for i in range(len(pos)):\n",
    "    ax.text(pos[i,0]-0.2, pos[i,1]+0.1, corpus[i], size=15)"
   ]
  },
  {
   "cell_type": "markdown",
   "metadata": {
    "run_control": {
     "frozen": false,
     "read_only": false
    }
   },
   "source": [
    "---\n",
    "\n",
    "**Ces points sont-ils regroupés en accord avec vos deux thèmes ?** \n",
    "\n",
    "Si les documents que vous avez rédigé portent sur deux thèmes bien identifiés et distincts, la réponse est affirmative ! \n",
    "\n",
    "L'idée est que les documents contenant des mots semblables sont *proches*, ce qui refléte des contenus de significations similaires. \n",
    "\n",
    "*(Eventuellement, modifier votre corpus pour que ce soit le cas.)*\n",
    "\n",
    "---"
   ]
  },
  {
   "cell_type": "markdown",
   "metadata": {
    "run_control": {
     "frozen": false,
     "read_only": false
    }
   },
   "source": [
    "### Classer les documents en deux groupes\n",
    "\n",
    "La question que nous posons est la suivante :\n",
    "\n",
    "**Sur la base de l'observation précédente, peut-on regrouper *automatiquement* les documents ayant des contenus de signification similaire ?**\n",
    "\n",
    "La réponse est affirmative. Pour ce faire, vous pouvez utiliser la méthode *fit_predict()* de la classe *KMeans*. "
   ]
  },
  {
   "cell_type": "code",
   "execution_count": 57,
   "metadata": {
    "run_control": {
     "frozen": false,
     "read_only": false
    }
   },
   "outputs": [
    {
     "name": "stdout",
     "output_type": "stream",
     "text": [
      "Initialization complete\n",
      "Iteration  0, inertia 53.000\n",
      "Iteration  1, inertia 29.524\n",
      "Converged at iteration 1: center shift 0.000000e+00 within tolerance 1.351724e-05\n",
      "Initialization complete\n",
      "Iteration  0, inertia 49.000\n",
      "Iteration  1, inertia 29.524\n",
      "Converged at iteration 1: center shift 0.000000e+00 within tolerance 1.351724e-05\n",
      "Initialization complete\n",
      "Iteration  0, inertia 55.000\n",
      "Iteration  1, inertia 28.800\n",
      "Converged at iteration 1: center shift 0.000000e+00 within tolerance 1.351724e-05\n",
      "Initialization complete\n",
      "Iteration  0, inertia 49.000\n",
      "Iteration  1, inertia 29.524\n",
      "Converged at iteration 1: center shift 0.000000e+00 within tolerance 1.351724e-05\n",
      "Initialization complete\n",
      "Iteration  0, inertia 66.000\n",
      "Iteration  1, inertia 30.167\n",
      "Converged at iteration 1: center shift 0.000000e+00 within tolerance 1.351724e-05\n",
      "Initialization complete\n",
      "Iteration  0, inertia 68.000\n",
      "Iteration  1, inertia 30.431\n",
      "Iteration  2, inertia 28.800\n",
      "Converged at iteration 2: center shift 0.000000e+00 within tolerance 1.351724e-05\n",
      "Initialization complete\n",
      "Iteration  0, inertia 55.000\n",
      "Iteration  1, inertia 29.524\n",
      "Converged at iteration 1: center shift 0.000000e+00 within tolerance 1.351724e-05\n",
      "Initialization complete\n",
      "Iteration  0, inertia 52.000\n",
      "Iteration  1, inertia 28.800\n",
      "Converged at iteration 1: center shift 0.000000e+00 within tolerance 1.351724e-05\n",
      "Initialization complete\n",
      "Iteration  0, inertia 54.000\n",
      "Iteration  1, inertia 29.833\n",
      "Converged at iteration 1: center shift 0.000000e+00 within tolerance 1.351724e-05\n",
      "Initialization complete\n",
      "Iteration  0, inertia 66.000\n",
      "Iteration  1, inertia 30.167\n",
      "Converged at iteration 1: center shift 0.000000e+00 within tolerance 1.351724e-05\n"
     ]
    }
   ],
   "source": [
    "from sklearn.cluster import KMeans\n",
    "\n",
    "# définit les options de classification\n",
    "#  - n_clusters=2 --> deux clusters\n",
    "#  - verbose=1    --> affiche l'évolution du critère pour chaque initialisation\n",
    "clust = KMeans(n_clusters=2, n_init=10, init='k-means++', verbose=1)\n",
    "\n",
    "# calcule les labels de chaque document du corpus\n",
    "Ckm = clust.fit_predict(X)"
   ]
  },
  {
   "cell_type": "markdown",
   "metadata": {
    "run_control": {
     "frozen": false,
     "read_only": false
    }
   },
   "source": [
    "Le résultat de cette méthode est un vecteur de labels, où **le label i indique la classe du document i**."
   ]
  },
  {
   "cell_type": "code",
   "execution_count": 58,
   "metadata": {
    "run_control": {
     "frozen": false,
     "read_only": false
    },
    "scrolled": true
   },
   "outputs": [
    {
     "name": "stdout",
     "output_type": "stream",
     "text": [
      "Classe des documents:\n",
      "[0 0 0 0 0 1 1 1 1 1]\n"
     ]
    }
   ],
   "source": [
    "\n",
    "print(\"Classe des documents:\")\n",
    "print(Ckm)"
   ]
  },
  {
   "cell_type": "markdown",
   "metadata": {
    "run_control": {
     "frozen": false,
     "read_only": false
    }
   },
   "source": [
    "Vous pouvez visualiser la classification obtenue sur un graphe 2D."
   ]
  },
  {
   "cell_type": "code",
   "execution_count": 59,
   "metadata": {
    "run_control": {
     "frozen": false,
     "read_only": false
    }
   },
   "outputs": [
    {
     "data": {
      "image/png": "[encoded data removed]",
      "text/plain": [
       "<matplotlib.figure.Figure at 0x7f4bc22026a0>"
      ]
     },
     "metadata": {},
     "output_type": "display_data"
    }
   ],
   "source": [
    "colors = ['red', 'blue']\n",
    "fig, ax = plt.subplots(figsize=(17, 9))\n",
    "\n",
    "plt.scatter( pos[:,0], pos[:,1], s=200, c=Ckm, cmap=matplotlib.colors.ListedColormap(colors) )\n",
    "plt.grid()\n",
    "plt.tight_layout()\n",
    "\n",
    "for i in range(len(pos)):\n",
    "    ax.text(pos[i,0]-0.2, pos[i,1]+0.1, corpus[i], size=15)"
   ]
  },
  {
   "cell_type": "markdown",
   "metadata": {
    "run_control": {
     "frozen": false,
     "read_only": false
    }
   },
   "source": [
    "---\n",
    "\n",
    "** Les documents sont-ils classifiés en accord avec vos deux thèmes ? **\n",
    "\n",
    "---"
   ]
  },
  {
   "cell_type": "markdown",
   "metadata": {
    "run_control": {
     "frozen": false,
     "read_only": false
    }
   },
   "source": [
    "Pour interpréter les résultats, vous pouvez analyser les *centroides* calculés par l'algorithme K-Means. \n",
    "\n",
    "Plus précisément, vous pouvez afficher les *mots clés* associés à chaque centroide."
   ]
  },
  {
   "cell_type": "code",
   "execution_count": 60,
   "metadata": {
    "run_control": {
     "frozen": false,
     "read_only": false
    },
    "scrolled": true
   },
   "outputs": [
    {
     "name": "stdout",
     "output_type": "stream",
     "text": [
      "Thème 0:\n",
      "aiment bien est excellent excellents la les pour rigoler santé sont souvent vous étudiants étudier êtes\n",
      "\n",
      "Thème 1:\n",
      "beau belle en est fait froid hiver il la le mais montagne neige pénible que\n"
     ]
    }
   ],
   "source": [
    "mots0 = vectorizer.inverse_transform( clust.cluster_centers_[0] )\n",
    "mots1 = vectorizer.inverse_transform( clust.cluster_centers_[1] )\n",
    "\n",
    "print(\"Thème 0:\")\n",
    "print( ' '.join(mots0[0]) )\n",
    "print()\n",
    "print(\"Thème 1:\")\n",
    "print( ' '.join(mots1[0]) )"
   ]
  },
  {
   "cell_type": "markdown",
   "metadata": {
    "run_control": {
     "frozen": false,
     "read_only": false
    }
   },
   "source": [
    "Remarquez la présence de *mots inutiles* (est, il, la, ...) et de *mots similaires* (excellent , excellents, ...) parmi les mots clés de chaque thème."
   ]
  },
  {
   "cell_type": "markdown",
   "metadata": {
    "run_control": {
     "frozen": false,
     "read_only": false
    }
   },
   "source": [
    "### Réduction de la taille du vocabulaire\n",
    "\n",
    "Il est raisonnable de ne pas prendre en compte les *stop words*, à savior les mots tels que les articles, les verbes auxilliaires, les conjonctions, les liaisons, et tous les mots très usuels qui n'apportent aucune information sur le sens du document. De plus, pour réduire ultérieurement les redondances, on ne peut que garder la racine des mots au travers d'une opération de *stemming*. \n",
    "\n",
    "**Refaites la conversion des documents textuels en vecteurs numériques, cette fois avec le stemming et sans les stop words.**\n",
    "\n",
    "En premier lieu, redéfinissez la classes *FrenchStemmedCountVectorizer* comme montré dans le cours."
   ]
  },
  {
   "cell_type": "code",
   "execution_count": 65,
   "metadata": {
    "run_control": {
     "frozen": false,
     "read_only": false
    }
   },
   "outputs": [
    {
     "name": "stdout",
     "output_type": "stream",
     "text": [
      "NLTK Downloader\n",
      "---------------------------------------------------------------------------\n",
      "    d) Download   l) List    u) Update   c) Config   h) Help   q) Quit\n",
      "---------------------------------------------------------------------------\n",
      "Downloader> l\n",
      "\n",
      "Packages:\n",
      "  [*] abc................. Australian Broadcasting Commission 2006\n",
      "  [*] alpino.............. Alpino Dutch Treebank\n",
      "  [*] averaged_perceptron_tagger Averaged Perceptron Tagger\n",
      "  [ ] averaged_perceptron_tagger_ru Averaged Perceptron Tagger (Russian)\n",
      "  [*] basque_grammars..... Grammars for Basque\n",
      "  [*] biocreative_ppi..... BioCreAtIvE (Critical Assessment of Information\n",
      "                           Extraction Systems in Biology)\n",
      "  [*] bllip_wsj_no_aux.... BLLIP Parser: WSJ Model\n",
      "  [*] book_grammars....... Grammars from NLTK Book\n",
      "  [*] brown............... Brown Corpus\n",
      "  [*] brown_tei........... Brown Corpus (TEI XML Version)\n",
      "  [*] cess_cat............ CESS-CAT Treebank\n",
      "  [*] cess_esp............ CESS-ESP Treebank\n",
      "  [*] chat80.............. Chat-80 Data Files\n",
      "  [*] city_database....... City Database\n",
      "  [*] cmudict............. The Carnegie Mellon Pronouncing Dictionary (0.6)\n",
      "  [*] comparative_sentences Comparative Sentence Dataset\n",
      "  [*] comtrans............ ComTrans Corpus Sample\n",
      "  [*] conll2000........... CONLL 2000 Chunking Corpus\n",
      "  [*] conll2002........... CONLL 2002 Named Entity Recognition Corpus\n",
      "Hit Enter to continue: \n",
      "  [*] conll2007........... Dependency Treebanks from CoNLL 2007 (Catalan\n",
      "                           and Basque Subset)\n",
      "  [*] crubadan............ Crubadan Corpus\n",
      "  [*] dependency_treebank. Dependency Parsed Treebank\n",
      "  [-] dolch............... Dolch Word List\n",
      "  [*] europarl_raw........ Sample European Parliament Proceedings Parallel\n",
      "                           Corpus\n",
      "  [*] floresta............ Portuguese Treebank\n",
      "  [*] framenet_v15........ FrameNet 1.5\n",
      "  [*] framenet_v17........ FrameNet 1.7\n",
      "  [*] gazetteers.......... Gazeteer Lists\n",
      "  [*] genesis............. Genesis Corpus\n",
      "  [*] gutenberg........... Project Gutenberg Selections\n",
      "  [*] hmm_treebank_pos_tagger Treebank Part of Speech Tagger (HMM)\n",
      "  [*] ieer................ NIST IE-ER DATA SAMPLE\n",
      "  [*] inaugural........... C-Span Inaugural Address Corpus\n",
      "  [*] indian.............. Indian Language POS-Tagged Corpus\n",
      "  [*] jeita............... JEITA Public Morphologically Tagged Corpus (in\n",
      "                           ChaSen format)\n",
      "  [*] kimmo............... PC-KIMMO Data Files\n",
      "  [*] knbc................ KNB Corpus (Annotated blog corpus)\n",
      "Hit Enter to continue: \n",
      "  [*] large_grammars...... Large context-free and feature-based grammars\n",
      "                           for parser comparison\n",
      "  [*] lin_thesaurus....... Lin's Dependency Thesaurus\n",
      "  [*] mac_morpho.......... MAC-MORPHO: Brazilian Portuguese news text with\n",
      "                           part-of-speech tags\n",
      "  [*] machado............. Machado de Assis -- Obra Completa\n",
      "  [*] masc_tagged......... MASC Tagged Corpus\n",
      "  [*] maxent_ne_chunker... ACE Named Entity Chunker (Maximum entropy)\n",
      "  [*] maxent_treebank_pos_tagger Treebank Part of Speech Tagger (Maximum entropy)\n",
      "  [*] moses_sample........ Moses Sample Models\n",
      "  [*] movie_reviews....... Sentiment Polarity Dataset Version 2.0\n",
      "  [*] mte_teip5........... MULTEXT-East 1984 annotated corpus 4.0\n",
      "  [ ] mwa_ppdb............ The monolingual word aligner (Sultan et al.\n",
      "                           2015) subset of the Paraphrase Database.\n",
      "  [*] names............... Names Corpus, Version 1.3 (1994-03-29)\n",
      "  [*] nombank.1.0......... NomBank Corpus 1.0\n",
      "  [ ] nonbreaking_prefixes Non-Breaking Prefixes (Moses Decoder)\n",
      "  [*] nps_chat............ NPS Chat\n",
      "  [*] omw................. Open Multilingual Wordnet\n",
      "  [*] opinion_lexicon..... Opinion Lexicon\n",
      "  [-] panlex_lite......... PanLex Lite Corpus\n",
      "Hit Enter to continue: \n",
      "  [-] panlex_swadesh...... PanLex Swadesh Corpora\n",
      "  [*] paradigms........... Paradigm Corpus\n",
      "  [ ] pe08................ Cross-Framework and Cross-Domain Parser\n",
      "                           Evaluation Shared Task\n",
      "  [ ] perluniprops........ perluniprops: Index of Unicode Version 7.0.0\n",
      "                           character properties in Perl\n",
      "  [*] pil................. The Patient Information Leaflet (PIL) Corpus\n",
      "  [*] pl196x.............. Polish language of the XX century sixties\n",
      "  [ ] porter_test......... Porter Stemmer Test Files\n",
      "  [*] ppattach............ Prepositional Phrase Attachment Corpus\n",
      "  [*] problem_reports..... Problem Report Corpus\n",
      "  [*] product_reviews_1... Product Reviews (5 Products)\n",
      "  [*] product_reviews_2... Product Reviews (9 Products)\n",
      "  [*] propbank............ Proposition Bank Corpus 1.0\n",
      "  [*] pros_cons........... Pros and Cons\n",
      "  [*] ptb................. Penn Treebank\n",
      "  [*] punkt............... Punkt Tokenizer Models\n",
      "  [*] qc.................. Experimental Data for Question Classification\n",
      "  [*] reuters............. The Reuters-21578 benchmark corpus, ApteMod\n",
      "                           version\n",
      "  [*] rslp................ RSLP Stemmer (Removedor de Sufixos da Lingua\n",
      "                           Portuguesa)\n",
      "Hit Enter to continue: \n",
      "  [*] rte................. PASCAL RTE Challenges 1, 2, and 3\n",
      "  [*] sample_grammars..... Sample Grammars\n",
      "  [*] semcor.............. SemCor 3.0\n",
      "  [*] senseval............ SENSEVAL 2 Corpus: Sense Tagged Text\n",
      "  [*] sentence_polarity... Sentence Polarity Dataset v1.0\n",
      "  [*] sentiwordnet........ SentiWordNet\n",
      "  [*] shakespeare......... Shakespeare XML Corpus Sample\n",
      "  [*] sinica_treebank..... Sinica Treebank Corpus Sample\n",
      "  [*] smultron............ SMULTRON Corpus Sample\n",
      "  [*] snowball_data....... Snowball Data\n",
      "  [*] spanish_grammars.... Grammars for Spanish\n",
      "  [*] state_union......... C-Span State of the Union Address Corpus\n",
      "  [*] stopwords........... Stopwords Corpus\n",
      "  [*] subjectivity........ Subjectivity Dataset v1.0\n",
      "  [*] swadesh............. Swadesh Wordlists\n",
      "  [*] switchboard......... Switchboard Corpus Sample\n",
      "  [*] tagsets............. Help on Tagsets\n",
      "  [*] timit............... TIMIT Corpus Sample\n",
      "  [*] toolbox............. Toolbox Sample Files\n",
      "  [*] treebank............ Penn Treebank Sample\n",
      "  [*] twitter_samples..... Twitter Samples\n",
      "Hit Enter to continue: \n",
      "  [*] udhr2............... Universal Declaration of Human Rights Corpus\n",
      "                           (Unicode Version)\n",
      "  [*] udhr................ Universal Declaration of Human Rights Corpus\n",
      "  [*] unicode_samples..... Unicode Samples\n",
      "  [*] universal_tagset.... Mappings to the Universal Part-of-Speech Tagset\n",
      "  [*] universal_treebanks_v20 Universal Treebanks Version 2.0\n",
      "  [ ] vader_lexicon....... VADER Sentiment Lexicon\n",
      "  [*] verbnet............. VerbNet Lexicon, Version 2.1\n",
      "  [*] webtext............. Web Text Corpus\n",
      "  [ ] wmt15_eval.......... Evaluation data from WMT15\n",
      "  [*] word2vec_sample..... Word2Vec Sample\n",
      "  [*] wordnet............. WordNet\n",
      "  [*] wordnet_ic.......... WordNet-InfoContent\n",
      "  [*] words............... Word Lists\n",
      "  [*] ycoe................ York-Toronto-Helsinki Parsed Corpus of Old\n",
      "                           English Prose\n",
      "\n",
      "Collections:\n",
      "  [-] all-corpora......... All the corpora\n",
      "  [-] all................. All packages\n",
      "  [-] book................ Everything used in the NLTK Book\n",
      "\n",
      "([*] marks installed packages; [-] marks out-of-date or corrupt packages)\n",
      "\n",
      "---------------------------------------------------------------------------\n",
      "    d) Download   l) List    u) Update   c) Config   h) Help   q) Quit\n",
      "---------------------------------------------------------------------------\n",
      "Downloader> q\n"
     ]
    },
    {
     "data": {
      "text/plain": [
       "True"
      ]
     },
     "execution_count": 65,
     "metadata": {},
     "output_type": "execute_result"
    }
   ],
   "source": [
    "nltk.download()"
   ]
  },
  {
   "cell_type": "code",
   "execution_count": 66,
   "metadata": {
    "run_control": {
     "frozen": false,
     "read_only": false
    }
   },
   "outputs": [],
   "source": [
    "# définit les \"stop words\" français\n",
    "import nltk\n",
    "import nltk.stem\n",
    "from nltk.corpus import stopwords\n",
    "stwf=stopwords.words('french')\n",
    "\n",
    "# définit le stemmer en français\n",
    "french_stemmer=nltk.stem.SnowballStemmer('french')\n",
    "class FrenchStemmedCountVectorizer(CountVectorizer): # hérite de CountVectorizer\n",
    "    def build_analyzer(self):\n",
    "        analyzer = super(FrenchStemmedCountVectorizer, self).build_analyzer()\n",
    "        return lambda doc: (french_stemmer.stemmer.stem(word) for word in analyzer(doc))\n",
    "        "
   ]
  },
  {
   "cell_type": "markdown",
   "metadata": {
    "run_control": {
     "frozen": false,
     "read_only": false
    }
   },
   "source": [
    "Ensuite, appelez la méthode *fit_transform()* sur votre corpus de documents."
   ]
  },
  {
   "cell_type": "code",
   "execution_count": 67,
   "metadata": {
    "run_control": {
     "frozen": false,
     "read_only": false
    }
   },
   "outputs": [],
   "source": [
    "Fvectorizer = FrenchStemmedCountVectorizer(min_df=1, stop_words=stwf)\n",
    "X = Fvectorizer.fit_transform(corpus)"
   ]
  },
  {
   "cell_type": "markdown",
   "metadata": {
    "run_control": {
     "frozen": false,
     "read_only": false
    }
   },
   "source": [
    "Afficher le nouveau dictionnaire des mots."
   ]
  },
  {
   "cell_type": "code",
   "execution_count": 68,
   "metadata": {
    "run_control": {
     "frozen": false,
     "read_only": false
    },
    "scrolled": true
   },
   "outputs": [
    {
     "name": "stdout",
     "output_type": "stream",
     "text": [
      "taille du corpus :  10\n",
      "taille du vocabulaire :  16\n",
      "\n",
      "{'excellent': 4, 'le': 8, 'étudi': 15, 'souvent': 14, 'aiment': 0, 'bien': 3, 'rigol': 12, 'sant': 13, 'montagn': 9, 'bel': 2, 'hiv': 7, 'fait': 5, 'beau': 1, 'froid': 6, 'neig': 10, 'pénibl': 11}\n"
     ]
    }
   ],
   "source": [
    "M,N=X.shape\n",
    "\n",
    "print(\"taille du corpus : \",M)\n",
    "print(\"taille du vocabulaire : \",N)\n",
    "print()\n",
    "print(Fvectorizer.vocabulary_)"
   ]
  },
  {
   "cell_type": "markdown",
   "metadata": {
    "run_control": {
     "frozen": false,
     "read_only": false
    }
   },
   "source": [
    "On peut visualizer les documents transformés en utilisant les mots du nouveau dictionnaire."
   ]
  },
  {
   "cell_type": "code",
   "execution_count": 69,
   "metadata": {
    "run_control": {
     "frozen": false,
     "read_only": false
    }
   },
   "outputs": [
    {
     "name": "stdout",
     "output_type": "stream",
     "text": [
      "vous êtes excellents                  ==> excellent\n",
      "les étudiants sont souvent excellents ==> souvent étudi le excellent\n",
      "les étudiants aiment bien rigoler     ==> rigol bien aiment étudi le\n",
      "rigoler est excellent pour la santé   ==> sant rigol excellent\n",
      "étudier est excellent                 ==> étudi excellent\n",
      "que la montagne est belle en hiver    ==> hiv bel montagn\n",
      "en hiver il fait beau mais froid      ==> froid beau fait hiv\n",
      "la neige en montagne est belle        ==> neig bel montagn\n",
      "la neige en hiver est pénible         ==> pénibl neig hiv\n",
      "le froid en hiver est pénible         ==> pénibl froid hiv\n"
     ]
    }
   ],
   "source": [
    "# recupere les mots du dictionnaire \n",
    "new_corpus = Fvectorizer.inverse_transform( X )\n",
    "\n",
    "# visualise\n",
    "padding = len( max(corpus, key=len) )\n",
    "for i in range(M):\n",
    "    print( \"%s ==> %s\" % (corpus[i].ljust(padding), ' '.join(new_corpus[i])) )"
   ]
  },
  {
   "cell_type": "markdown",
   "metadata": {
    "run_control": {
     "frozen": false,
     "read_only": false
    }
   },
   "source": [
    "Recalculez la matrices des distances et visualisez-la comme montré précédemment."
   ]
  },
  {
   "cell_type": "code",
   "execution_count": 70,
   "metadata": {
    "run_control": {
     "frozen": false,
     "read_only": false
    },
    "scrolled": false
   },
   "outputs": [
    {
     "data": {
      "image/png": "[encoded data removed]",
      "text/plain": [
       "<matplotlib.figure.Figure at 0x7f4bc20d9a58>"
      ]
     },
     "metadata": {},
     "output_type": "display_data"
    }
   ],
   "source": [
    "# distance des documents\n",
    "dist_corpus = euclidean_distances(X)\n",
    "\n",
    "# transforme les documents en points 2D.\n",
    "mds = MDS(n_components=2, dissimilarity=\"precomputed\", random_state=1)\n",
    "pos = mds.fit_transform( dist_corpus )\n",
    "\n",
    "# visualise les points\n",
    "colors = ['red', 'blue']\n",
    "fig, ax = plt.subplots(figsize=(17, 9))\n",
    "plt.scatter( pos[:,0], pos[:,1], s=200, c=labels, cmap=matplotlib.colors.ListedColormap(colors) )\n",
    "plt.grid()\n",
    "plt.tight_layout()\n",
    "\n",
    "# ajoute le début du document à coté de chaque point\n",
    "for i in range(len(pos)):\n",
    "    ax.text(pos[i,0]-0.2, pos[i,1]+0.1, corpus[i], size=15)"
   ]
  },
  {
   "cell_type": "markdown",
   "metadata": {
    "run_control": {
     "frozen": false,
     "read_only": false
    }
   },
   "source": [
    "Reclassifiez les documents à l'aide de l'algorithme K-Means."
   ]
  },
  {
   "cell_type": "code",
   "execution_count": null,
   "metadata": {
    "run_control": {
     "frozen": false,
     "read_only": false
    },
    "scrolled": false
   },
   "outputs": [],
   "source": [
    "# définit les options de classification\n",
    "clust = KMeans(<<ADD CODE HERE>>)\n",
    "\n",
    "# calcule les labels de chaque document du corpus\n",
    "Ckm = clust.<<ADD CODE HERE>>"
   ]
  },
  {
   "cell_type": "markdown",
   "metadata": {
    "run_control": {
     "frozen": false,
     "read_only": false
    }
   },
   "source": [
    "Pour interpréter les résultats, vous pouvez reanalyser les centroides calculés par l'algorithme K-Means."
   ]
  },
  {
   "cell_type": "code",
   "execution_count": null,
   "metadata": {
    "run_control": {
     "frozen": false,
     "read_only": false
    }
   },
   "outputs": [],
   "source": [
    "mots0 = Fvectorizer.inverse_transform( clust.cluster_centers_[0] )\n",
    "mots1 = Fvectorizer.inverse_transform( clust.cluster_centers_[1] )\n",
    "\n",
    "print(\"Thème 0:\")\n",
    "print( ' '.join(mots0[0]) )\n",
    "print()\n",
    "print(\"Thème 1:\")\n",
    "print( ' '.join(mots1[0]) )"
   ]
  },
  {
   "cell_type": "markdown",
   "metadata": {
    "run_control": {
     "frozen": false,
     "read_only": false
    }
   },
   "source": [
    "---\n",
    "\n",
    "**Maintenant, vous devriez avoir une indication plus précise des mots clés associés aux deux thèmes.**\n",
    "\n",
    "---"
   ]
  },
  {
   "cell_type": "markdown",
   "metadata": {
    "run_control": {
     "frozen": false,
     "read_only": false
    }
   },
   "source": [
    "## Top 100 Greatest Movies of All Time\n",
    "\n",
    "Pour montrer l'intérêt de la classification de messages, nous analyseront les synopsis de 100 films (récupérées sur wikipedia et IMDb), afin d'identifier **automatiquement** les thèmes récurrents dans ces films.\n",
    "\n",
    "Vous trouverez les données textuelles dans les fichiers qui accompagnent le présent notebook."
   ]
  },
  {
   "cell_type": "code",
   "execution_count": null,
   "metadata": {
    "collapsed": true,
    "run_control": {
     "frozen": false,
     "read_only": false
    }
   },
   "outputs": [],
   "source": [
    "# Si beautifulsoup pas installé\n",
    "# !pip3 install BeautifulSoup4 --user"
   ]
  },
  {
   "cell_type": "code",
   "execution_count": null,
   "metadata": {
    "run_control": {
     "frozen": false,
     "read_only": false
    }
   },
   "outputs": [],
   "source": [
    "from bs4 import BeautifulSoup\n",
    "\n",
    "# récupère 100 films\n",
    "titles = open('title_list.txt').read().split('\\n')\n",
    "titles = titles[:100]\n",
    "\n",
    "# récupère les liens sur IMDb\n",
    "links = open('link_list_imdb.txt').read().split('\\n')\n",
    "links = links[:100]\n",
    "\n",
    "# récupère les genres\n",
    "genres = open('genres_list.txt').read().split('\\n')\n",
    "genres = genres[:100]\n",
    "\n",
    "# récupère les synopses de wikipedia\n",
    "synopses_wiki = open('synopses_list_wiki.txt', encoding=\"utf8\").read().split('\\n BREAKS HERE')\n",
    "synopses_wiki = synopses_wiki[:100]\n",
    "\n",
    "# récupère les synopses de IMDb\n",
    "synopses_imdb = open('synopses_list_imdb.txt').read().split('\\n BREAKS HERE')\n",
    "synopses_imdb = synopses_imdb[:100]\n",
    "\n",
    "# nettoie les synopses de wikipedia\n",
    "synopses_clean_wiki = []\n",
    "for text in synopses_wiki:\n",
    "    text = BeautifulSoup(text, 'html.parser').getText()\n",
    "    synopses_clean_wiki.append(text)\n",
    "synopses_wiki = synopses_clean_wiki\n",
    "\n",
    "# nettoie les synopses de IMDb\n",
    "synopses_clean_imdb = []\n",
    "for text in synopses_imdb:\n",
    "    text = BeautifulSoup(text, 'html.parser').getText()\n",
    "    synopses_clean_imdb.append(text)\n",
    "synopses_imdb = synopses_clean_imdb\n",
    "\n",
    "# fusionne les deux synopses\n",
    "synopses = []\n",
    "for i in range(len(synopses_wiki)):\n",
    "    item = synopses_wiki[i] + synopses_imdb[i]\n",
    "    synopses.append(item)\n",
    "    \n",
    "# génère les indices pour chaque élément dans le corpus\n",
    "ranks = []\n",
    "for i in range(0,len(titles)):\n",
    "    ranks.append(i)"
   ]
  },
  {
   "cell_type": "markdown",
   "metadata": {
    "run_control": {
     "frozen": false,
     "read_only": false
    }
   },
   "source": [
    "Voici les données relatives à quelque film."
   ]
  },
  {
   "cell_type": "code",
   "execution_count": null,
   "metadata": {
    "run_control": {
     "frozen": false,
     "read_only": false
    }
   },
   "outputs": [],
   "source": [
    "idx = 0; # changer l'indice pour afficher un film different\n",
    "\n",
    "print( titles[idx] )\n",
    "print()\n",
    "print( links[idx] )\n",
    "print()\n",
    "print( genres[idx] )\n",
    "print()\n",
    "print( synopses[idx][1:500] )"
   ]
  },
  {
   "cell_type": "markdown",
   "metadata": {
    "run_control": {
     "frozen": false,
     "read_only": false
    }
   },
   "source": [
    "### Etape 1 : Transformation TF-IDF\n",
    "\n",
    "La première étape consiste à convertir les documents textuels en vecteur numériques. Pour ce faire, vous utiliserez la transformation TF-IDF vue en cours.\n",
    "\n",
    "La classe *TfidfVectorizer* permet obtenir des vecteurs de composantes tf-idf. Il est cependant nécessaire, si l'on veut reduire le dictionnaire avant de construire les vecteurs tf-idf, de créer une nouvelle classe *StemmedTfidfVectorizer*, comme vous l'avez fait précédemment pour *StemmedCountVectorizer*."
   ]
  },
  {
   "cell_type": "code",
   "execution_count": null,
   "metadata": {
    "run_control": {
     "frozen": false,
     "read_only": false
    }
   },
   "outputs": [],
   "source": [
    "<<ADD CODE HERE>>"
   ]
  },
  {
   "cell_type": "markdown",
   "metadata": {
    "run_control": {
     "frozen": false,
     "read_only": false
    }
   },
   "source": [
    "Appelez la méthode *fit_transform()* sur les synopsis."
   ]
  },
  {
   "cell_type": "code",
   "execution_count": null,
   "metadata": {
    "run_control": {
     "frozen": false,
     "read_only": false
    }
   },
   "outputs": [],
   "source": [
    "<<ADD CODE HERE>>"
   ]
  },
  {
   "cell_type": "markdown",
   "metadata": {
    "run_control": {
     "frozen": false,
     "read_only": false
    }
   },
   "source": [
    "Afficher les informations sur le dictionnaire des mots. Remarquez la taille de celui-ci sur une application réelle !"
   ]
  },
  {
   "cell_type": "code",
   "execution_count": null,
   "metadata": {
    "run_control": {
     "frozen": false,
     "read_only": false
    },
    "scrolled": true
   },
   "outputs": [],
   "source": [
    "<<ADD CODE HERE>>"
   ]
  },
  {
   "cell_type": "markdown",
   "metadata": {
    "run_control": {
     "frozen": false,
     "read_only": false
    }
   },
   "source": [
    "Calculez la matrice des distances et afficher le résultat dans un graphe 2D (comme montré dans l'exemple precedent)."
   ]
  },
  {
   "cell_type": "code",
   "execution_count": null,
   "metadata": {
    "run_control": {
     "frozen": false,
     "read_only": false
    },
    "scrolled": false
   },
   "outputs": [],
   "source": [
    "<<ADD CODE HERE>>"
   ]
  },
  {
   "cell_type": "markdown",
   "metadata": {
    "run_control": {
     "frozen": false,
     "read_only": false
    }
   },
   "source": [
    "L'indice de chaque point vous permet de recuperer le titre correspondant."
   ]
  },
  {
   "cell_type": "code",
   "execution_count": null,
   "metadata": {
    "run_control": {
     "frozen": false,
     "read_only": false
    },
    "scrolled": true
   },
   "outputs": [],
   "source": [
    "idx = 9 \n",
    "\n",
    "print(\"Titre du film n°\", idx, \": \" + titles[9] )"
   ]
  },
  {
   "cell_type": "markdown",
   "metadata": {
    "run_control": {
     "frozen": false,
     "read_only": false
    }
   },
   "source": [
    "---\n",
    "\n",
    "**Vous pouvez modifier les paramètres *min_df* et *max_df* dans la fonction *StemmedTfidfVectorizer()*, afin de changer la taille du dictionnaire. L'impact de ce changement sera visible sur la figure ci-dessus.**\n",
    "\n",
    "---"
   ]
  },
  {
   "cell_type": "markdown",
   "metadata": {
    "run_control": {
     "frozen": false,
     "read_only": false
    }
   },
   "source": [
    "### Etape 2 : Clustering\n",
    "\n",
    "La deuxieme étape consiste à regrouper les films en utilisant l'algorithme *K-Means* vu en cours.\n",
    "\n",
    "Vous avez le choix sur un paramètre : le **nombre de thèmes** dont les films seront regroupés."
   ]
  },
  {
   "cell_type": "code",
   "execution_count": null,
   "metadata": {
    "run_control": {
     "frozen": false,
     "read_only": false
    }
   },
   "outputs": [],
   "source": [
    "<<ADD CODE HERE>>"
   ]
  },
  {
   "cell_type": "markdown",
   "metadata": {
    "run_control": {
     "frozen": false,
     "read_only": false
    }
   },
   "source": [
    "Vous pouvez visualiser la classification obtenue sur un graphe 2D."
   ]
  },
  {
   "cell_type": "code",
   "execution_count": null,
   "metadata": {
    "run_control": {
     "frozen": false,
     "read_only": false
    },
    "scrolled": false
   },
   "outputs": [],
   "source": [
    "import matplotlib\n",
    "import matplotlib.pyplot as plt\n",
    "\n",
    "\n",
    "colors = ['pink', 'lightblue', 'lightgreen', 'orange', 'yellow', 'red', 'green', 'blue', 'cyan', 'brown']\n",
    "\n",
    "fig, ax = plt.subplots(figsize=(25, 15))\n",
    "plt.scatter( pos[:,0], pos[:,1], s=300, c=Ckm, cmap=matplotlib.colors.ListedColormap(colors) )\n",
    "plt.grid()\n",
    "plt.tight_layout()\n",
    "\n",
    "for i in range(len(pos)):\n",
    "    ax.text(pos[i,0]+0.01, pos[i,1]+0.01, ranks[i], size=25)"
   ]
  },
  {
   "cell_type": "markdown",
   "metadata": {
    "run_control": {
     "frozen": false,
     "read_only": false
    }
   },
   "source": [
    "Vouz pouvez analyser les résultats de plusieurs points de vue. \n",
    "\n",
    "- Afficher l'histogrammme des labels obtenus"
   ]
  },
  {
   "cell_type": "code",
   "execution_count": null,
   "metadata": {
    "run_control": {
     "frozen": false,
     "read_only": false
    }
   },
   "outputs": [],
   "source": [
    "<<ADD CODE HERE>>"
   ]
  },
  {
   "cell_type": "markdown",
   "metadata": {
    "run_control": {
     "frozen": false,
     "read_only": false
    }
   },
   "source": [
    " - Visualizer les mots clés de chaque thème"
   ]
  },
  {
   "cell_type": "code",
   "execution_count": null,
   "metadata": {
    "run_control": {
     "frozen": false,
     "read_only": false
    }
   },
   "outputs": [],
   "source": [
    "<<ADD CODE HERE>>"
   ]
  }
 ],
 "metadata": {
  "kernelspec": {
   "display_name": "Python 3",
   "language": "python",
   "name": "python3"
  },
  "language_info": {
   "codemirror_mode": {
    "name": "ipython",
    "version": 3
   },
   "file_extension": ".py",
   "mimetype": "text/x-python",
   "name": "python",
   "nbconvert_exporter": "python",
   "pygments_lexer": "ipython3",
   "version": "3.6.1"
  },
  "latex_envs": {
   "LaTeX_envs_menu_present": true,
   "autocomplete": true,
   "bibliofile": "latex_bib.bib",
   "cite_by": "apalike",
   "current_citInitial": 1,
   "eqLabelWithNumbers": true,
   "eqNumInitial": 1,
   "hotkeys": {
    "equation": "ctrl-e"
   },
   "labels_anchors": false,
   "latex_user_defs": false,
   "report_style_numbering": false,
   "user_envs_cfg": false
  },
  "nbTranslate": {
   "displayLangs": [
    "fr",
    "en"
   ],
   "hotkey": "alt-t",
   "langInMainMenu": true,
   "sourceLang": "en",
   "targetLang": "fr",
   "useGoogleTranslate": true
  },
  "toc": {
   "colors": {
    "hover_highlight": "#DAA520",
    "running_highlight": "#FF0000",
    "selected_highlight": "#39ff00"
   },
   "moveMenuLeft": true,
   "nav_menu": {
    "height": "171px",
    "width": "252px"
   },
   "navigate_menu": true,
   "number_sections": true,
   "sideBar": true,
   "threshold": "4",
   "toc_cell": false,
   "toc_section_display": "block",
   "toc_window_display": false,
   "widenNotebook": false
  }
 },
 "nbformat": 4,
 "nbformat_minor": 1
}
