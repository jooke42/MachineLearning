{
 "cells": [
  {
   "cell_type": "markdown",
   "metadata": {},
   "source": [
    "# TD Vectorisation de texte et représentation graphique\n",
    "\n",
    "Dans ce TD, nous nous intéressons à la représentation vectorielle de texte à partir de la méthode [Bag of words](http://scikit-learn.org/stable/modules/generated/sklearn.feature_extraction.text.CountVectorizer.html). Nous étudierons les effets des différents paramètres sur la représentation obtenue. Nous étudierons également deux méthodes pour représenter graphiquement des données vectorielles de grande dimension."
   ]
  },
  {
   "cell_type": "code",
   "execution_count": 1,
   "metadata": {
    "collapsed": true
   },
   "outputs": [],
   "source": [
    "import numpy as np\n",
    "import matplotlib.pyplot as plt\n",
    "import sys,os,os.path\n",
    "%matplotlib inline"
   ]
  },
  {
   "cell_type": "markdown",
   "metadata": {},
   "source": [
    "## L'ensemble de textes : 20 newsgroups\n",
    "\n",
    "Dans ce TD, nous utiliserons l'ensemble de textes qui se nomme « 20 newsgroups ». C'est une collection d'environ 20000 documents de groupes de discussion, répartis (presque) uniformément dans 20 groupes de discussion différents. Cet ensemble de textes est devenu populaire pour les expériences de Machine learning dans les applications de texte, telles que la classification de texte et le regroupement de texte.\n",
    "\n",
    "Pour plus de detaille : http://qwone.com/~jason/20Newsgroups/"
   ]
  },
  {
   "cell_type": "code",
   "execution_count": 2,
   "metadata": {
    "collapsed": true
   },
   "outputs": [],
   "source": [
    "from sklearn.datasets import fetch_20newsgroups"
   ]
  },
  {
   "cell_type": "markdown",
   "metadata": {},
   "source": [
    "**Question -** Chargez un échantillon de l'ensemble de textes avec les paramètres suivants ([sklearn.datasets.fetch_20newsgroups()](http://scikit-learn.org/stable/modules/generated/sklearn.datasets.fetch_20newsgroups.html)) :\n",
    "- uniquement les catégories : 'alt.atheism', 'soc.religion.christian','comp.graphics' et 'sci.med'\n",
    "- le sous-ensemble d'entrainement ('train')"
   ]
  },
  {
   "cell_type": "code",
   "execution_count": 3,
   "metadata": {
    "collapsed": true
   },
   "outputs": [],
   "source": [
    "categories=['alt.atheism', 'soc.religion.christian','comp.graphics', 'sci.med']\n",
    "\n",
    "twenty_train = fetch_20newsgroups(subset='train', categories=categories)"
   ]
  },
  {
   "cell_type": "markdown",
   "metadata": {},
   "source": [
    "La variable `twenty_train`, contient les 3 sous-variables suivantes :\n",
    "- **`twenty_train.target_names`** : la liste des noms de sujet\n",
    "- **`twenty_train.target`** : la liste des indexs des sujets pour chaque message\n",
    "- **`twenty_train.data`** : la liste des messages\n",
    "\n",
    "**Question -** Afficher la liste des des noms de sujet, les noms de sujet des 20 premiers messages et le texte de quelques messages ([print()](https://docs.python.org/3/tutorial/inputoutput.html), [string.join()](https://docs.python.org/3.5/library/string.html), [repr()](https://docs.python.org/3.5/library/functions.html?highlight=repr#repr))\n"
   ]
  },
  {
   "cell_type": "code",
   "execution_count": 4,
   "metadata": {},
   "outputs": [
    {
     "name": "stdout",
     "output_type": "stream",
     "text": [
      "Liste des noms de sujet : alt.atheism, comp.graphics, sci.med, soc.religion.christian\n",
      "\n",
      "Sujet des 20 premiers messages : comp.graphics, comp.graphics, soc.religion.christian, soc.religion.christian, soc.religion.christian, soc.religion.christian, soc.religion.christian, sci.med, sci.med, sci.med, soc.religion.christian, comp.graphics, alt.atheism, alt.atheism, comp.graphics, comp.graphics, sci.med, alt.atheism, soc.religion.christian, alt.atheism\n",
      "\n",
      "Exemple de message :\n",
      "\"From: ani@ms.uky.edu (Aniruddha B. Deglurkar)\\nSubject: help: Splitting a trimming region along a mesh \\nOrganization: University Of Kentucky, Dept. of Math Sciences\\nLines: 28\\n\\n\\n\\n\\tHi,\\n\\n\\tI have a problem, I hope some of the 'gurus' can help me solve.\\n\\n\\tBackground of the problem:\\n\\tI have a rectangular mesh in the uv domain, i.e  the mesh is a \\n\\tmapping of a 3d Bezier patch into 2d. The area in this domain\\n\\twhich is inside a trimming loop had to be rendered. The trimming\\n\\tloop is a set of 2d Bezier curve segments.\\n\\tFor the sake of notation: the mesh is made up of cells.\\n\\n\\tMy problem is this :\\n\\tThe trimming area has to be split up into individual smaller\\n\\tcells bounded by the trimming curve segments. If a cell\\n\\tis wholly inside the area...then it is output as a whole ,\\n\\telse it is trivially rejected. \\n\\n\\tDoes any body know how thiss can be done, or is there any algo. \\n\\tsomewhere for doing this.\\n\\n\\tAny help would be appreciated.\\n\\n\\tThanks, \\n\\tAni.\\n-- \\nTo get irritated is human, to stay cool, divine.\\n\"\n",
      "\n",
      "\"From: dstampe@psych.toronto.edu (Dave Stampe)\\nSubject: Re: Fast polygon routine needed\\nKeywords: polygon, needed\\nOrganization: Department of Psychology, University of Toronto\\nLines: 27\\n\\nsol.surv.utas.edu.au (Stephen Quan) writes:\\n\\n>>>>[...], but I'm looking for a fast polygon routine to be used in a 3D game.\\n>>>A fast polygon routine to do WHAT?\\n>>To draw polygons of course.  Its a VGA mode 13h (320x200) game, [...]\\n>\\n>Hi, I've come across a fast triangle fill-draw routine for mode 13h.  By\\n>calling this routine enough times, you have a fast polygon drawing routine.\\n>\\n>I think I ftp'ed from wuarchive.wustl.edu:/pub/MSDOS_UPLOADS/programming.\\n>I have a copy of it so I reupload it there.  The triangle.txt file has this\\n>to say :\\n>\\n>>  C and inline assembly source for a VGA mode 13h triangle drawer.\\n>\\nAnother source:  There's a poly blitter for mode y (mode x in 320x200)\\nat sunee.uwaterloo.ca.  Also there is REND386, an even faster 3D\\nrenderer with VR extensions.\\n\\n\\n--------------------------------------------------------------------------\\n| My life is Hardware,                    |         Dave Stampe          | \\n| my destiny is Software,                 | dstampe@psych.toronto.edu    |\\n| my CPU is Wetware...                    | dstampe@sunee.uwaterloo.ca   | \\n| Am I a techno-psychologist, or just a psycho-engineer ??               |\\n--------------------------------------------------------------------------\\n\\n\"\n",
      "\n",
      "'From: jdt@voodoo.ca.boeing.com (Jim Tomlinson (jimt II))\\nSubject: An agnostic\\'s question\\nOrganization: BoGART To You Buddy, Bellevue, WA\\nLines: 24\\n\\nPardon me if this is the wrong newsgroup.  I would describe myself as\\nan agnostic, in so far as I\\'m sure there is no single, universal\\nsupreme being, but if there is one and it is just, we will surely be\\njudged on whether we lived good lives, striving to achieve that\\ngoodness that is within the power of each of us.  Now, the\\ncomplication is that one of my best friends has become very\\nfundamentalist.  That would normally be a non-issue with me, but he\\nfeels it is his responsibility to proselytize me (which I guess it is,\\naccording to his faith).  This is a great strain to our friendship.  I\\nwould have no problem if the subject didn\\'t come up, but when it does,\\nthe discussion quickly begins to offend both of us: he is offended\\nbecause I call into question his bedrock beliefs; I am offended by\\nwhat I feel is a subscription to superstition, rationalized by such\\ncircular arguments as \\'the Bible is God\\'s word because He tells us in\\nthe Bible that it is so.\\'  So my question is, how can I convince him\\nthat this is a subject better left undiscussed, so we can preserve\\nwhat is (in all areas other than religious beliefs) a great\\nfriendship?  How do I convince him that I am \\'beyond saving\\' so he\\nwon\\'t try?  Thanks for any advice.\\n\\n-- \\nJim Tomlinson                          206-865-6578  \\\\  \"falling snow\\nBoGART Project              jdt@voodoo.ca.boeing.com  \\\\  excellent snow\"\\nBoeing Computer Services   ...uunet!bcstec!voodoo!jdt  \\\\  - Anderson/Gabriel\\n'\n"
     ]
    }
   ],
   "source": [
    "print('Liste des noms de sujet : ' + ', '.join(twenty_train.target_names))\n",
    "print()\n",
    "print('Sujet des 20 premiers messages : ' + ', '.join([twenty_train.target_names[twenty_train.target[i]] for i in range(20)]))\n",
    "print()\n",
    "print('Exemple de message :\\n' + '\\n\\n'.join([repr(twenty_train.data[i]) for i in (1,25,256)]))"
   ]
  },
  {
   "cell_type": "markdown",
   "metadata": {},
   "source": [
    "**Analyse -** Que remarquez-vous sur le contenu des messages (Attention ! Utiliser la fonction **`repr()`**) ? Peut-on les utiliser directement sous cette forme ?"
   ]
  },
  {
   "cell_type": "markdown",
   "metadata": {},
   "source": [
    "## Bag of words\n",
    "### Création du dictionnaire"
   ]
  },
  {
   "cell_type": "code",
   "execution_count": 5,
   "metadata": {
    "collapsed": true
   },
   "outputs": [],
   "source": [
    "from sklearn.feature_extraction.text import CountVectorizer"
   ]
  },
  {
   "cell_type": "markdown",
   "metadata": {},
   "source": [
    "**Question -** Créez un `CountVectorizer` et utilisez le corpus de texte pour apprendre le dictionnaire de vectorisation ([CountVectorizer.fit()](http://scikit-learn.org/stable/modules/generated/sklearn.feature_extraction.text.CountVectorizer.html#sklearn.feature_extraction.text.CountVectorizer.fit))."
   ]
  },
  {
   "cell_type": "code",
   "execution_count": 6,
   "metadata": {
    "collapsed": true
   },
   "outputs": [],
   "source": [
    "vectorizer = CountVectorizer()\n",
    "vectorizer.fit(twenty_train.data);"
   ]
  },
  {
   "cell_type": "markdown",
   "metadata": {},
   "source": [
    "**Question -** Quelle est la taille du dictionnaire obtenu (`CountVectorizer.vocabulary_`) ? Affichez les 500 premiers mots du dictionnaire, que pouvez-vous en conclure ?"
   ]
  },
  {
   "cell_type": "code",
   "execution_count": 7,
   "metadata": {},
   "outputs": [
    {
     "name": "stdout",
     "output_type": "stream",
     "text": [
      "Nombre de mots dans le disctionnaire : 35788\n",
      "from sd345 city ac uk michael collier subject converting images to hp laserjet iii nntp posting host hampton organization the university lines 14 does anyone know of good way standard pc application pd utility convert tif img tga files into format we would also like do same hpgl plotter please email any response is this correct group thanks in advance programmer computer unit tel 071 477 8000 x3769 london fax 8565 ec1v 0hb ani ms uky edu aniruddha deglurkar help splitting trimming region along mesh kentucky dept math sciences 28 hi have problem hope some gurus can me solve background rectangular uv domain mapping 3d bezier patch 2d area which inside loop had be rendered set curve segments for sake notation made up cells my has split individual smaller bounded by if cell wholly then it output as whole else trivially rejected body how thiss done or there algo somewhere doing appreciated get irritated human stay cool divine djohnson cs ucsd darin johnson re harrassed at work could use prayers cse san diego 63 well ll but may apply other people so post ve been working company eight years various engineering jobs female yesterday counted and realized that on seven different occasions sexually dreaded coming back today what boss comes ask kind question your should person bring these problems he she not seem take action keep going higher sexual harrassment need tolerated an enormous emotional support discuss with someone they are trying something about you feel perhaps personnel department while preserving privacy most companies will want deal because constant anxiety seriously affect effectively employees their unclear letter inconceivable management remains ignorant employee strife even after miracle notice manager did attention ups indeed ignore entire state agency willing fight check lawyer women resource center etc find out paster priest husband judgemental supportive comforting lot healing returned 11 25 only ever single already left lunch 15 no one bothered call building though number was posted happens honest believe due gross insensitivity feelings through offices tend more insensitive than normally maybe hustle stress happen often didn realize car broken come wonder why go make stop being angry ignored laugh once went off without our who paying reason mr moderator allows latest indulgence turn signs age closing don let hateful actions harm still playground bully enjoy seeing hurt cause accept opinions imbecile worthless much wiser hold great esteem luxury day bytes swap s0612596 rug nl zwart catholic church poland faculteit der letteren rijksuniversiteit groningen 10 hello writing paper role 1989 tell fill recent books articles english german french important concerning abortion law religious education schools birth control relation government thanx masja stanly grok11 columbiasc ncr com elder brother corp columbia sc article apr 00 57 41 1993 28246 athos rutgers rexlex fnal gov writes 01 56 22824 shrum hpfcso fc matt 22 therefore main highways many invite wedding feast hmmmmmm sounds theology christ odds am parable jesus tells kingdom heaven unto certain king marriage his son clothes were customary given those chose attend man refused wear equalivant righteousness when died sins provided decision put vbv lor eeap cwru virgilio dean velasco jr arrogance christians case western reserve univ cleveland ohio usa 2073 geneva hayesstw risc1 unisa za steve hayes similar analogy might medical doctor believes blood transfusion necessary save life child whose parents jehovah witnesses conscientious objections efforts persuade them agree perceived arrogant precisely truth otherwise belief irrelevant here matters true seen foce beliefs carry step further doctors claim infallible generally admit conceivably wrong tranfusion all however enough confidence conviction genuine concern fallible beings must acknowledge possibility say such doubts reasonable stand convictions electrical eng applied physics graduate student roboticist training wannabee bullwinkle intimidating referee very doesn look jewish carpenter jodfishe silver ucs indiana joseph dale fisher anger 34 17 44 2232 news cbnewsk att paul conditt insert deletion aaron discourse ref galatians 19 20 obvious speaking acts flesh just emotions themselves moral immoral bad first label emotion numb ourselves hide god accepts us oh definitely colossians ephesians 27 controlled puts strong emphasis self write timothy making sure teach remainder paragraph think quick judge forgiven aids dealt taken responsibility appropriate choices read yourself joe again issue especially over stem instances giving soon moore aldridge netcom jacquelin teenage acne line communication services 408 241 9760 guest pchurch swell actrix gen nz pat churchill usual spotty chin greasy nose bought him clearasil face wash ointment probably diet product called dalacin used prescription treatment available chemist counter asked couple pharmacists either severe ok odd spots teenager nothing serious father figure escalate disfiguring kids senstitive appearance wary neighbour wierd malady eventually down overdose vitamin scaliness around hairline scalp sort cradle cap pointers advice tried anti dandruff shampoos inclined condition worse better shall bury kid till 21 lucky ones little luck skin gets oily really miserable pimples dry frequent lukewarm water rinses getting thing under simple submerging bathwater softened washing taking mineral heard iodine causes trouble fast food restaurants sterilize equipment where foods came grease immediately removed eating meat keeping hair rinse mousse dip spray warm bath soaks cloths soften oil pores prevent blackheads hydrophilic loves softens washes chance goes limp oilyness becoming convinced best whitehead leave alone days pimple misery prying black whiteheads infections red usually break naturally won infection afterwards normal cosmetic industry makes money selling idea incredible defect hidden cost causing jackie geb pitt gordon banks blindsight reply pittsburgh science 18 werner 240393161954 tol7mac15 soe berkeley john 19213 uucp wrote explain thought types cones equivalent rgb basically right sensitive green blue yellow two common kinds color blindness yes remember now contrary original respondent claimed n3jxp skepticism chastity intellect cadre dsl shameful surrender too libman hsc usc marlena patient relationship southern california los angeles ca 64 situation occurred between physican upset saw recurring pain suggested medication course told begin monitor its effectiveness general health exactly reaching secretary explained her following request worried episodes effective words whatever busy time chit chat simply instructions 7th status feeling talk responded spit said raised voice started quickly nervousness interfered choice stuttered\n"
     ]
    }
   ],
   "source": [
    "print('Nombre de mots dans le disctionnaire :', len(vectorizer.vocabulary_))\n",
    "print(' '.join([list(vectorizer.vocabulary_.keys())[i] for i in range(1000)]))"
   ]
  },
  {
   "cell_type": "markdown",
   "metadata": {},
   "source": [
    "**Question -** Écrivez la fonction `preprocess_text(mess)`, qui permet de prétraiter les textes ([str.replace()](https://docs.python.org/3.5/library/stdtypes.html?highlight=replace#str.replace))."
   ]
  },
  {
   "cell_type": "code",
   "execution_count": 8,
   "metadata": {
    "collapsed": true
   },
   "outputs": [],
   "source": [
    "def preprocess_text(mess):\n",
    "    mess = mess.replace('_',' ')\n",
    "    return mess"
   ]
  },
  {
   "cell_type": "markdown",
   "metadata": {},
   "source": [
    "Nous surchargons la fonction `build_analyzer` de la classe `CountVectorizer` pour y ajouter notre prétraitement."
   ]
  },
  {
   "cell_type": "code",
   "execution_count": 9,
   "metadata": {
    "collapsed": true
   },
   "outputs": [],
   "source": [
    "class CountVectorizerV2(CountVectorizer):\n",
    "    def build_analyzer(self):\n",
    "        analyzer = super(CountVectorizerV2, self).build_analyzer()\n",
    "        return lambda doc: analyzer(preprocess_text(doc))"
   ]
  },
  {
   "cell_type": "markdown",
   "metadata": {},
   "source": [
    "**Question -** Créez un `CountVectorizerV2` et utilisez le corpus de texte pour apprendre le dictionnaire de vectorisation ([CountVectorizer.fit()](http://scikit-learn.org/stable/modules/generated/sklearn.feature_extraction.text.CountVectorizer.html#sklearn.feature_extraction.text.CountVectorizer.fit)).\n",
    "\n",
    "Quelle est la nouvelle taille du dictionnaire obtenu ? Affichez les nouveaux 500 premiers mots du dictionnaire, cela vous semble-t-il mieux ?"
   ]
  },
  {
   "cell_type": "code",
   "execution_count": 10,
   "metadata": {},
   "outputs": [
    {
     "name": "stdout",
     "output_type": "stream",
     "text": [
      "Nombre de mots dans le disctionnaire : 35179\n",
      "from sd345 city ac uk michael collier subject converting images to hp laserjet iii nntp posting host hampton organization the university lines 14 does anyone know of good way standard pc application pd utility convert tif img tga files into format we would also like do same hpgl plotter please email any response is this correct group thanks in advance programmer computer unit tel 071 477 8000 x3769 london fax 8565 ec1v 0hb ani ms uky edu aniruddha deglurkar help splitting trimming region along mesh kentucky dept math sciences 28 hi have problem hope some gurus can me solve background rectangular uv domain mapping 3d bezier patch 2d area which inside loop had be rendered set curve segments for sake notation made up cells my has split individual smaller bounded by if cell wholly then it output as whole else trivially rejected body how thiss done or there algo somewhere doing appreciated get irritated human stay cool divine djohnson cs ucsd darin johnson re harrassed at work could use prayers cse san diego 63 well ll but may apply other people so post ve been working company eight years various engineering jobs female yesterday counted and realized that on seven different occasions sexually dreaded coming back today what boss comes ask kind question your should person bring these problems he she not seem take action keep going higher sexual harrassment need tolerated an enormous emotional support discuss with someone they are trying something about you feel perhaps personnel department while preserving privacy most companies will want deal because constant anxiety seriously affect effectively employees their unclear letter inconceivable management remains ignorant employee strife even after miracle notice manager did attention ups indeed ignore entire state agency willing fight check lawyer women resource center etc find out paster priest husband judgemental supportive comforting lot healing returned 11 25 only ever single already left lunch 15 no one bothered call building though number was posted happens honest believe due gross insensitivity feelings through offices tend more insensitive than normally maybe hustle stress happen often didn realize car broken come wonder why go make stop being angry ignored laugh once went off without our who paying reason mr moderator allows latest indulgence turn signs age closing don let hateful actions harm still playground bully enjoy seeing hurt cause accept opinions imbecile worthless much wiser hold great esteem luxury day bytes swap s0612596 rug nl zwart catholic church poland faculteit der letteren rijksuniversiteit groningen 10 hello writing paper role 1989 tell fill recent books articles english german french important concerning abortion law religious education schools birth control relation government thanx masja stanly grok11 columbiasc ncr com elder brother corp columbia sc article apr 00 57 41 1993 28246 athos rutgers rexlex fnal gov writes 01 56 22824 shrum hpfcso fc matt 22 therefore main highways many invite wedding feast hmmmmmm sounds theology christ odds am parable jesus tells kingdom heaven unto certain king marriage his son clothes were customary given those chose attend man refused wear equalivant righteousness when died sins provided decision put vbv lor eeap cwru virgilio dean velasco jr arrogance christians case western reserve univ cleveland ohio usa 2073 geneva hayesstw risc1 unisa za steve hayes similar analogy might medical doctor believes blood transfusion necessary save life child whose parents jehovah witnesses conscientious objections efforts persuade them agree perceived arrogant precisely truth otherwise belief irrelevant here matters true seen foce beliefs carry step further doctors claim infallible generally admit conceivably wrong tranfusion all however enough confidence conviction genuine concern fallible beings must acknowledge possibility say such doubts reasonable stand convictions electrical eng applied physics graduate student roboticist training wannabee bullwinkle intimidating referee very doesn look jewish carpenter jodfishe silver ucs indiana joseph dale fisher anger 34 17 44 2232 news cbnewsk att paul conditt insert deletion aaron discourse ref galatians 19 20 obvious speaking acts flesh just emotions themselves moral immoral bad first label emotion numb ourselves hide god accepts us oh definitely colossians ephesians 27 controlled puts strong emphasis self write timothy making sure teach remainder paragraph think quick judge forgiven aids dealt taken responsibility appropriate choices read yourself joe again issue especially over stem instances giving soon moore aldridge netcom jacquelin teenage acne line communication services 408 241 9760 guest pchurch swell actrix gen nz pat churchill usual spotty chin greasy nose bought him clearasil face wash ointment probably diet product called dalacin used prescription treatment available chemist counter asked couple pharmacists either severe ok odd spots teenager nothing serious father figure escalate disfiguring kids senstitive appearance wary neighbour wierd malady eventually down overdose vitamin scaliness around hairline scalp sort cradle cap pointers advice tried anti dandruff shampoos inclined condition worse better shall bury kid till 21 lucky ones little luck skin gets oily really miserable pimples dry frequent lukewarm water rinses getting thing under simple submerging bathwater softened washing taking mineral heard iodine causes trouble fast food restaurants sterilize equipment where foods came grease immediately removed eating meat keeping hair rinse mousse dip spray warm bath soaks cloths soften oil pores prevent blackheads hydrophilic loves softens washes chance goes limp oilyness becoming convinced best whitehead leave alone days pimple misery prying black whiteheads infections red usually break naturally won infection afterwards normal cosmetic industry makes money selling idea incredible defect hidden cost causing jackie geb pitt gordon banks blindsight reply pittsburgh science 18 werner 240393161954 tol7mac15 soe berkeley john 19213 uucp wrote explain thought types cones equivalent rgb basically right sensitive green blue yellow two common kinds color blindness yes remember now contrary original respondent claimed n3jxp skepticism chastity intellect cadre dsl shameful surrender too libman hsc usc marlena patient relationship southern california los angeles ca 64 situation occurred between physican upset saw recurring pain suggested medication course told begin monitor its effectiveness general health exactly reaching secretary explained her following request worried episodes effective words whatever busy time chit chat simply instructions 7th status feeling talk responded spit said raised voice started quickly nervousness interfered choice stuttered\n"
     ]
    }
   ],
   "source": [
    "vectorizer = CountVectorizerV2()\n",
    "vectorizer.fit(twenty_train.data)\n",
    "print('Nombre de mots dans le disctionnaire :', len(vectorizer.vocabulary_))\n",
    "print(' '.join([list(vectorizer.vocabulary_.keys())[i] for i in range(1000)]))"
   ]
  },
  {
   "cell_type": "markdown",
   "metadata": {},
   "source": [
    "### Réduction du nombre de mots dans le dictionnaire\n",
    "\n",
    "Pour réduire le nombre de mots dans le dictionnaire, nous allons étudier la fréquence d'apparition des mots dans les documents  *document frequency* en anglais.\n",
    "\n",
    "**Question -** Utilisez la fonction [CountVectorizer.transform()](http://scikit-learn.org/stable/modules/generated/sklearn.feature_extraction.text.CountVectorizer.html#sklearn.feature_extraction.text.CountVectorizer.transform) pour vectoriser les documents du corpus de texte. "
   ]
  },
  {
   "cell_type": "code",
   "execution_count": 11,
   "metadata": {
    "collapsed": true
   },
   "outputs": [],
   "source": [
    "X = vectorizer.transform(twenty_train.data)"
   ]
  },
  {
   "cell_type": "markdown",
   "metadata": {},
   "source": [
    "**Question -** Ecrivez la fonction `compute_document_frequency` qui calcule la fréquence d'apparition de chaque mot dans les documents ([numpy.mean()](https://docs.scipy.org/doc/numpy/reference/generated/numpy.mean.html))."
   ]
  },
  {
   "cell_type": "code",
   "execution_count": 12,
   "metadata": {
    "collapsed": true
   },
   "outputs": [],
   "source": [
    "def compute_document_frequency(X):\n",
    "    \n",
    "    df = np.mean(X>0, axis=0)\n",
    "    df = np.asarray(df).reshape(-1) # convertie un numpy.matrix en numpy.ndarray\n",
    "    return df"
   ]
  },
  {
   "cell_type": "markdown",
   "metadata": {},
   "source": [
    "**Question -** Affichez l'histogramme de la fréquence d'apparition des mots dans les documents du corpus de texte ([matplotlib.pyplot.hist()](http://matplotlib.org/api/pyplot_api.html#matplotlib.pyplot.hist))"
   ]
  },
  {
   "cell_type": "code",
   "execution_count": 13,
   "metadata": {},
   "outputs": [
    {
     "data": {
      "image/png": "[encoded data removed]",
      "text/plain": [
       "<matplotlib.figure.Figure at 0x7f9dad9ee550>"
      ]
     },
     "metadata": {},
     "output_type": "display_data"
    }
   ],
   "source": [
    "df = compute_document_frequency(X)\n",
    "\n",
    "fig = plt.figure();\n",
    "ax = fig.gca();\n",
    "ax.hist(df,100,normed=True);\n",
    "ax.set_yscale('log');\n",
    "ax.set_xbound([0,1]);\n",
    "ax.set_xlabel('Document frequency');\n",
    "ax.set_ylabel('Frequenc of document frequency');\n"
   ]
  },
  {
   "cell_type": "markdown",
   "metadata": {},
   "source": [
    "**Analyse -** Qu'est-ce que cela signifie ? Est-il intéressant d'avoir des mots avec une fréquence proche de 1 ou de 0 ? Quel est d'effet de ces mots sur la distance euclidienne entre la représentions vectorielle de deux textes ?\n",
    "\n",
    "**Question -** A l'aide du parametres `stop_words` de la classe [CountVectorizer](http://scikit-learn.org/stable/modules/generated/sklearn.feature_extraction.text.CountVectorizer.html), ajouter la liste des **stop_words** de la langue anglaise\n",
    "Quelle est la taille du dictionnaire alors obtenu ?\n",
    "Afficher alors le nouvelle l'histogramme de la fréquence d'apparition des mots dans les documents du corpus de texte ([matplotlib.pyplot.hist()](http://matplotlib.org/api/pyplot_api.html#matplotlib.pyplot.hist)).\n",
    "\n",
    "Que remarquez-vous ?"
   ]
  },
  {
   "cell_type": "code",
   "execution_count": 14,
   "metadata": {},
   "outputs": [
    {
     "name": "stdout",
     "output_type": "stream",
     "text": [
      "Nombre de mots dans le disctionnaire : 34873\n"
     ]
    },
    {
     "data": {
      "image/png": "[encoded data removed]",
      "text/plain": [
       "<matplotlib.figure.Figure at 0x7f9daee55908>"
      ]
     },
     "metadata": {},
     "output_type": "display_data"
    }
   ],
   "source": [
    "vectorizer = CountVectorizerV2(stop_words='english')\n",
    "vectorizer.fit(twenty_train.data)\n",
    "print('Nombre de mots dans le disctionnaire :', len(vectorizer.vocabulary_))\n",
    "\n",
    "X = vectorizer.transform(twenty_train.data)\n",
    "df = compute_document_frequency(X)\n",
    "\n",
    "fig = plt.figure();\n",
    "ax = fig.gca();\n",
    "ax.hist(df,100,normed=True);\n",
    "ax.set_yscale('log');\n",
    "ax.set_xbound([0,1]);\n",
    "ax.set_xlabel('Document frequency');\n",
    "ax.set_ylabel('Frequenc of document frequency');"
   ]
  },
  {
   "cell_type": "markdown",
   "metadata": {},
   "source": [
    "Nous avons vu en cours qu'il existe pour chaque langue et pour un grand nombre de mots de cette langue un sous-ensemble de mots dérivés.  Pour réduire la taille du vocabulaire, nous conservons l'élément racine de ces sous ensembles.\n",
    "\n",
    "Pour cela nous ajoutons une étape de [racinisation](http://fr.wikipedia.org/wiki/Racinisation) à notre `CountVectorizer`."
   ]
  },
  {
   "cell_type": "code",
   "execution_count": 18,
   "metadata": {},
   "outputs": [
    {
     "ename": "ModuleNotFoundError",
     "evalue": "No module named 'nltk'",
     "output_type": "error",
     "traceback": [
      "\u001b[0;31m---------------------------------------------------------------------------\u001b[0m",
      "\u001b[0;31mModuleNotFoundError\u001b[0m                       Traceback (most recent call last)",
      "\u001b[0;32m<ipython-input-18-5d8c6a38dc71>\u001b[0m in \u001b[0;36m<module>\u001b[0;34m()\u001b[0m\n\u001b[0;32m----> 1\u001b[0;31m \u001b[0;32mimport\u001b[0m \u001b[0mnltk\u001b[0m\u001b[0;34m.\u001b[0m\u001b[0mstem\u001b[0m\u001b[0;34m\u001b[0m\u001b[0m\n\u001b[0m\u001b[1;32m      2\u001b[0m \u001b[0menglish_stemmer\u001b[0m\u001b[0;34m=\u001b[0m\u001b[0mnltk\u001b[0m\u001b[0;34m.\u001b[0m\u001b[0mstem\u001b[0m\u001b[0;34m.\u001b[0m\u001b[0mSnowballStemmer\u001b[0m\u001b[0;34m(\u001b[0m\u001b[0;34m'english'\u001b[0m\u001b[0;34m)\u001b[0m\u001b[0;34m\u001b[0m\u001b[0m\n\u001b[1;32m      3\u001b[0m \u001b[0;32mclass\u001b[0m \u001b[0mEnglishStemmedCountVectorizer\u001b[0m\u001b[0;34m(\u001b[0m\u001b[0mCountVectorizer\u001b[0m\u001b[0;34m)\u001b[0m\u001b[0;34m:\u001b[0m \u001b[0;31m#EnglishStemmedCountVectorizer hérite de CountVectorizer\u001b[0m\u001b[0;34m\u001b[0m\u001b[0m\n\u001b[1;32m      4\u001b[0m     \u001b[0;32mdef\u001b[0m \u001b[0mbuild_analyzer\u001b[0m\u001b[0;34m(\u001b[0m\u001b[0mself\u001b[0m\u001b[0;34m)\u001b[0m\u001b[0;34m:\u001b[0m\u001b[0;34m\u001b[0m\u001b[0m\n\u001b[1;32m      5\u001b[0m         \u001b[0manalyzer\u001b[0m \u001b[0;34m=\u001b[0m \u001b[0msuper\u001b[0m\u001b[0;34m(\u001b[0m\u001b[0mEnglishStemmedCountVectorizer\u001b[0m\u001b[0;34m,\u001b[0m \u001b[0mself\u001b[0m\u001b[0;34m)\u001b[0m\u001b[0;34m.\u001b[0m\u001b[0mbuild_analyzer\u001b[0m\u001b[0;34m(\u001b[0m\u001b[0;34m)\u001b[0m\u001b[0;34m\u001b[0m\u001b[0m\n",
      "\u001b[0;31mModuleNotFoundError\u001b[0m: No module named 'nltk'"
     ]
    }
   ],
   "source": [
    "import nltk.stem\n",
    "english_stemmer=nltk.stem.SnowballStemmer('english')\n",
    "class EnglishStemmedCountVectorizer(CountVectorizer): #EnglishStemmedCountVectorizer hérite de CountVectorizer\n",
    "    def build_analyzer(self):\n",
    "        analyzer = super(EnglishStemmedCountVectorizer, self).build_analyzer()\n",
    "        return lambda doc: (english_stemmer.stem(w) for w in analyzer(preprocess_text(doc)))"
   ]
  },
  {
   "cell_type": "markdown",
   "metadata": {},
   "source": [
    "**Question -** Avec notre nouveau `EnglishStemmedCountVectorizer`, quelle est la taille du dictionnaire alors obtenu ?\n",
    "Affichez alors le nouvel l'histogramme de la fréquence d'apparition des mots dans les documents du corpus de texte ([matplotlib.pyplot.hist()](http://matplotlib.org/api/pyplot_api.html#matplotlib.pyplot.hist)).\n",
    "\n",
    "Que remarquez-vous ?"
   ]
  },
  {
   "cell_type": "code",
   "execution_count": null,
   "metadata": {
    "collapsed": true
   },
   "outputs": [],
   "source": [
    "vectorizer = EnglishStemmedCountVectorizer(stop_words='english')\n",
    "vectorizer.fit(twenty_train.data)\n",
    "print('Nombre de mots dans le disctionnaire :', len(vectorizer.vocabulary_))\n",
    "\n",
    "X = vectorizer.transform(twenty_train.data)\n",
    "df = compute_document_frequency(X)\n",
    "\n",
    "fig = plt.figure();\n",
    "ax = fig.gca();\n",
    "ax.hist(df,100,normed=True);\n",
    "ax.set_yscale('log');\n",
    "ax.set_xbound([0,1]);\n",
    "ax.set_xlabel('Document frequency');\n",
    "ax.set_ylabel('Frequenc of document frequency');"
   ]
  },
  {
   "cell_type": "markdown",
   "metadata": {},
   "source": [
    "**Question -** A l'aide de la fonction [CountVectorizer.inverse_transform()](http://scikit-learn.org/stable/modules/generated/sklearn.feature_extraction.text.CountVectorizer.html#sklearn.feature_extraction.text.CountVectorizer.inverse_transform), quels sont les mots du dictionnaire qui ont une fréquence trop grande (par exemple avec un df > 0.25) ?"
   ]
  },
  {
   "cell_type": "code",
   "execution_count": null,
   "metadata": {
    "collapsed": true
   },
   "outputs": [],
   "source": [
    "print('Liste des mots trop fréquents dans les documents : ' + ', '.join(vectorizer.inverse_transform(df>0.25)[0]))"
   ]
  },
  {
   "cell_type": "markdown",
   "metadata": {},
   "source": [
    "**Question -** A l'aide des parametres **`min_df`** et **`max_df`** de la classe [CountVectorizer](http://scikit-learn.org/stable/modules/generated/sklearn.feature_extraction.text.CountVectorizer.html), filtrer les mots avec des fréquences indésirables.\n",
    "\n",
    "Quelle est la taille du dictionnaire alors obtenu ?\n",
    "\n",
    "Affichez alors le nouvel l'histogramme de la fréquence d'apparition des mots dans les documents du corpus de texte ([matplotlib.pyplot.hist()](http://matplotlib.org/api/pyplot_api.html#matplotlib.pyplot.hist))."
   ]
  },
  {
   "cell_type": "code",
   "execution_count": null,
   "metadata": {
    "collapsed": true
   },
   "outputs": [],
   "source": [
    "min_df=0.015\n",
    "max_df=0.1\n",
    "\n",
    "vectorizer = EnglishStemmedCountVectorizer(stop_words='english',min_df=min_df, max_df=max_df)\n",
    "vectorizer.fit(twenty_train.data)\n",
    "print('Nombre de mots dans le disctionnaire :', len(vectorizer.vocabulary_))\n",
    "\n",
    "X = vectorizer.transform(twenty_train.data).toarray()\n",
    "df = compute_document_frequency(X)\n",
    "\n",
    "fig = plt.figure();\n",
    "ax = fig.gca();\n",
    "ax.hist(df,100,normed=True);\n",
    "#ax.set_yscale('log');\n",
    "ax.set_xbound([min_df,max_df]);\n",
    "ax.set_xlabel('Document frequency');\n",
    "ax.set_ylabel('Frequenc of document frequency');"
   ]
  },
  {
   "cell_type": "markdown",
   "metadata": {},
   "source": [
    "## Visualisation\n",
    "\n",
    "Nous avons vu en cours qu'il est intéressant de visualiser les données pour juger de la qualité de la représentation. Il est possible de visualiser en regardant les dimensions de la représentation deux à deux avec la fonction suivante :"
   ]
  },
  {
   "cell_type": "code",
   "execution_count": null,
   "metadata": {
    "collapsed": true
   },
   "outputs": [],
   "source": [
    "def plot_croises(X,y,target_names, threshold = 1.0):\n",
    "    nb_class=len(np.unique(y))\n",
    "    nb_feat=X.shape[1]\n",
    "    if nb_feat%2:\n",
    "        nrows=int((nb_feat-1)/2)\n",
    "        ncols=nb_feat\n",
    "    else:\n",
    "        nrows=int(nb_feat/2)\n",
    "        ncols=nb_feat-1\n",
    "    plt.figure(figsize=(14, 10))\n",
    "    col=['b','r','g','c','m','y','k']\n",
    "    for t in range(nb_class):\n",
    "        k=1\n",
    "        for i in range(nb_feat-1):\n",
    "            for j in range(i+1,nb_feat):\n",
    "                plt.subplot(nrows,ncols,k)\n",
    "                \n",
    "                x_t = X[y == t,i]\n",
    "                y_t = X[y == t,j]\n",
    "                \n",
    "                x_mean = np.mean(x_t)\n",
    "                y_mean = np.mean(y_t)\n",
    "                \n",
    "                dist = (x_t-x_mean)**2 + (y_t-y_mean)**2\n",
    "                \n",
    "                \n",
    "                dist_max = np.sort(dist)[int(np.floor((dist.shape[0]-1)*threshold))]\n",
    "                \n",
    "                plt.scatter(x_t[dist<dist_max], y_t[dist<dist_max], color=col[t],lw=2,marker='o',label=target_names[t])\n",
    "                plt.ylabel('Dim. ' + str(j+1))\n",
    "                plt.xlabel('Dim. ' + str(i+1))\n",
    "                k=k+1\n",
    "    plt.legend(bbox_to_anchor=(2,2))  \n",
    "    plt.tight_layout()  \n",
    "    "
   ]
  },
  {
   "cell_type": "markdown",
   "metadata": {},
   "source": [
    "Nous pouvons alors visualiser les 6 premières dimensions de notre représentation par Bag of words"
   ]
  },
  {
   "cell_type": "code",
   "execution_count": null,
   "metadata": {
    "collapsed": true
   },
   "outputs": [],
   "source": [
    "plot_croises(X[:,:6],twenty_train.target,twenty_train.target_names)"
   ]
  },
  {
   "cell_type": "markdown",
   "metadata": {},
   "source": [
    "Cela fait déjà beaucoup de graphiques à analyser alors que nous regardons que les 6 premières dimensions\n",
    "\n",
    "### Analyse en Composantes Principales\n",
    "\n",
    "Une méthodes tres couramments utilisée qui permet de visualiser les données est l'utilisation de [Analyse en Composantes Principales](https://fr.wikipedia.org/wiki/Analyse_en_composantes_principales)(ACP), qui est disponible dans [sklearn.decomposition.PCA](http://scikit-learn.org/stable/modules/generated/sklearn.decomposition.PCA.html)"
   ]
  },
  {
   "cell_type": "code",
   "execution_count": null,
   "metadata": {
    "collapsed": true
   },
   "outputs": [],
   "source": [
    "from sklearn.decomposition import PCA"
   ]
  },
  {
   "cell_type": "markdown",
   "metadata": {},
   "source": [
    "**Question** A l'aide de l'ACP, réduisez la dimension de la signature à 6 dimensions et visualisez-les deux à deux avec la fonction `plot_croises()`."
   ]
  },
  {
   "cell_type": "code",
   "execution_count": null,
   "metadata": {
    "collapsed": true
   },
   "outputs": [],
   "source": [
    "pca = PCA(n_components=6)#,whiten=True\n",
    "pca.fit(X)\n",
    "X_redui = pca.transform(X)\n",
    "plot_croises(X_redui,twenty_train.target,twenty_train.target_names)"
   ]
  },
  {
   "cell_type": "markdown",
   "metadata": {},
   "source": [
    "**Analyse -** Le résultat obtenu est-il lisible facilement lisible ? Pourquoi ? \n",
    "\n",
    "**Question -** Utilisez le paramètre `threshold` de la fonction d'affichage `plot_croises` pour supprimer les points trop éloignés de l'ensemble."
   ]
  },
  {
   "cell_type": "code",
   "execution_count": null,
   "metadata": {
    "collapsed": true
   },
   "outputs": [],
   "source": [
    "plot_croises(X_redui,twenty_train.target,twenty_train.target_names, threshold = 0.95)"
   ]
  },
  {
   "cell_type": "markdown",
   "metadata": {},
   "source": [
    "**Analyse ** Quelles sujets de discutions peuvent être facilement séparés ? Peut-on en conlure qu'il sera difficile de séparer les autres sujets ?\n",
    "\n",
    "## Discrimination par Plus Proches Voisins  (PPV)\n",
    "\n",
    "### Méthode des plus proches voisins\n",
    "Le principe est simple : pour une donnée dont on ne connait pas la classe mais seulement les caractéristiques, nous allons rechercher la donnée de la base complète (caractéristiques + classe) dont les caractéristiques sont les plus proches (au sens de la distance Euclidienne) et nous lui attribuerons la classe de cette donnée la plus proche.\n",
    "\n",
    "### Mise en oeuvre\n",
    "\n",
    "Les fonctions pour mettre en oeuvre la méthode des PPV et un code d'exemple sont donnés. Executez-les."
   ]
  },
  {
   "cell_type": "code",
   "execution_count": null,
   "metadata": {
    "collapsed": true
   },
   "outputs": [],
   "source": [
    "from sklearn.neighbors import KNeighborsClassifier\n",
    "from sklearn.metrics import confusion_matrix\n",
    "import itertools\n",
    "\n",
    "def plot_confusion_matrix(cm, classes,\n",
    "                          normalize=False,\n",
    "                          title='Confusion matrix',\n",
    "                          cmap=plt.cm.Blues):\n",
    "    \"\"\"\n",
    "    This function prints and plots the confusion matrix.\n",
    "    Normalization can be applied by setting `normalize=True`.\n",
    "    \"\"\"\n",
    "    plt.imshow(cm, interpolation='nearest', cmap=cmap)\n",
    "    plt.title(title)\n",
    "    plt.colorbar()\n",
    "    tick_marks = np.arange(len(classes))\n",
    "    plt.xticks(tick_marks, classes, rotation=90)\n",
    "    plt.yticks(tick_marks, classes)\n",
    "\n",
    "    thresh = cm.max() / 2.\n",
    "    for i, j in itertools.product(range(cm.shape[0]), range(cm.shape[1])):\n",
    "        plt.text(j, i, cm[i, j],\n",
    "                 horizontalalignment=\"center\",\n",
    "                 color=\"white\" if cm[i, j] > thresh else \"black\")\n",
    "\n",
    "    plt.tight_layout()\n",
    "    plt.ylabel('True label')\n",
    "    plt.xlabel('Predicted label')\n",
    "\n",
    "\n",
    "def perf_knn(Xtrain,ytrain,Xtest,ytest,k=1):\n",
    "    knn=KNeighborsClassifier(k)\n",
    "    knn.fit(Xtrain, ytrain)\n",
    "    ctest=knn.predict(Xtest)\n",
    "    cm = confusion_matrix(ytest, ctest) \n",
    "    accuracy=sum(np.diag(cm))/sum(sum(cm))\n",
    "    erreur=1-accuracy\n",
    "    plot_confusion_matrix(cm,twenty_train.target_names)\n",
    "    print('exactitude = {0:.1%}.'.format(accuracy))\n",
    "    print('taux d''erreur = {0:.1%}.'.format(erreur))\n",
    "    "
   ]
  },
  {
   "cell_type": "code",
   "execution_count": null,
   "metadata": {
    "collapsed": true
   },
   "outputs": [],
   "source": [
    "twenty_test = fetch_20newsgroups(subset='test', categories=categories)\n",
    "\n",
    "X_test = vectorizer.transform(twenty_test.data).toarray()\n",
    "\n",
    "perf_knn(X,twenty_train.target,X_test,twenty_test.target,k=1)"
   ]
  },
  {
   "cell_type": "markdown",
   "metadata": {},
   "source": [
    "**Analyse -** Analysez la matrice de confusion obtenue, le résultat est-il cohérent avec la visualisation obtenue en utilisant l'ACP ?\n",
    "\n",
    "**Question -** Faites varier les parametres **`min_df`** et **`max_df`** de la classe [CountVectorizer](http://scikit-learn.org/stable/modules/generated/sklearn.feature_extraction.text.CountVectorizer.html) et observez les effets sur la visualisation et la matrice de confusion."
   ]
  }
 ],
 "metadata": {
  "anaconda-cloud": {},
  "kernelspec": {
   "display_name": "Python 3",
   "language": "python",
   "name": "python3"
  },
  "language_info": {
   "codemirror_mode": {
    "name": "ipython",
    "version": 3
   },
   "file_extension": ".py",
   "mimetype": "text/x-python",
   "name": "python",
   "nbconvert_exporter": "python",
   "pygments_lexer": "ipython3",
   "version": "3.6.0"
  }
 },
 "nbformat": 4,
 "nbformat_minor": 1
}
